{
  "nbformat": 4,
  "nbformat_minor": 0,
  "metadata": {
    "colab": {
      "provenance": [],
      "toc_visible": true
    },
    "kernelspec": {
      "name": "python3",
      "display_name": "Python 3"
    },
    "language_info": {
      "name": "python"
    }
  },
  "cells": [
    {
      "cell_type": "code",
      "source": [
        "# 🔧 Step 1: Required libraries install (Run only once)\n",
        "!pip install transformers nltk --quiet  # transformers = model, nltk = text processing\n"
      ],
      "metadata": {
        "id": "_hTQZ5QvFUmV"
      },
      "execution_count": 21,
      "outputs": []
    },
    {
      "cell_type": "code",
      "source": [
        "# 🔧 Step 2: Import necessary Python libraries\n",
        "import pandas as pd                      # CSV file read & dataframe manage\n",
        "import re                                # Regular expression for text cleaning\n",
        "from nltk.corpus import stopwords        # English stopword list (like: 'the', 'is', etc)\n",
        "from nltk.tokenize import word_tokenize  # Word-by-word split for filtering\n",
        "from nltk import download                # To download NLTK resources\n",
        "from transformers import pipeline        # HuggingFace summarizer model\n",
        "import nltk                              # Core nltk library\n",
        "\n",
        "# ✅ Download only needed NLTK data\n",
        "nltk.download('punkt')                   # For tokenization\n",
        "nltk.download('stopwords')               # For removing common English words\n",
        "\n"
      ],
      "metadata": {
        "colab": {
          "base_uri": "https://localhost:8080/"
        },
        "id": "2HQ_YbpEFcDu",
        "outputId": "2d2c3839-144f-4180-fc18-907517ffacd1"
      },
      "execution_count": 22,
      "outputs": [
        {
          "output_type": "stream",
          "name": "stderr",
          "text": [
            "[nltk_data] Downloading package punkt to /root/nltk_data...\n",
            "[nltk_data]   Package punkt is already up-to-date!\n",
            "[nltk_data] Downloading package stopwords to /root/nltk_data...\n",
            "[nltk_data]   Package stopwords is already up-to-date!\n"
          ]
        },
        {
          "output_type": "execute_result",
          "data": {
            "text/plain": [
              "True"
            ]
          },
          "metadata": {},
          "execution_count": 22
        }
      ]
    },
    {
      "cell_type": "code",
      "source": [
        "# 🔧 Step 3: NLTK resources download (Only once)\n",
        "download('punkt')            # Word & sentence tokenizers\n",
        "download('stopwords')        # Common English stopwords\n",
        "\n"
      ],
      "metadata": {
        "colab": {
          "base_uri": "https://localhost:8080/"
        },
        "id": "0vLCEbi7F1V0",
        "outputId": "974a4eb9-536c-4810-bcda-e61bbcf78001"
      },
      "execution_count": 23,
      "outputs": [
        {
          "output_type": "stream",
          "name": "stderr",
          "text": [
            "[nltk_data] Downloading package punkt to /root/nltk_data...\n",
            "[nltk_data]   Package punkt is already up-to-date!\n",
            "[nltk_data] Downloading package stopwords to /root/nltk_data...\n",
            "[nltk_data]   Package stopwords is already up-to-date!\n"
          ]
        },
        {
          "output_type": "execute_result",
          "data": {
            "text/plain": [
              "True"
            ]
          },
          "metadata": {},
          "execution_count": 23
        }
      ]
    },
    {
      "cell_type": "code",
      "source": [
        "# 📂 Step 4: Load your dataset\n",
        "df = pd.read_csv(\"/content/Last_Year_Project - Main.csv\")  # Tumi jei file upload koro, tar path eta\n"
      ],
      "metadata": {
        "id": "l2MZ6LFlF5tf"
      },
      "execution_count": 24,
      "outputs": []
    },
    {
      "cell_type": "code",
      "source": [
        "# 🧹 Step 5: Company Overview column theke missing gula remove koro\n",
        "df = df.dropna(subset=[\"Company Overview\"])  # Jekhane review nai, oigula bad\n"
      ],
      "metadata": {
        "id": "Q8zF2_CaGF7F"
      },
      "execution_count": 25,
      "outputs": []
    },
    {
      "cell_type": "code",
      "source": [
        "# 🧼 Step 6: Text ke lowercase kora & punctuation clean kora\n",
        "df[\"Clean_Review\"] = df[\"Company Overview\"].apply(lambda x: re.sub(r'[^a-zA-Z0-9\\s]', '', str(x).lower()))\n",
        "# 🔹 Explanation:\n",
        "# - x.lower(): sob kichu small letter e\n",
        "# - re.sub(): special character gula (.,!@) remove kora\n"
      ],
      "metadata": {
        "id": "Y7MSjPfLGLq9"
      },
      "execution_count": 26,
      "outputs": []
    },
    {
      "cell_type": "code",
      "source": [
        "# 🚫 Step 7: Stopwords remove kora (optional but helps)\n",
        "\n",
        "# 1️⃣ Stopwords set banano\n",
        "stop_words = set(stopwords.words('english'))  # Example: ['is', 'the', 'and', 'a'...]\n",
        "\n",
        "# ✅ Download only needed NLTK data for tokenization if not already downloaded\n",
        "try:\n",
        "    word_tokenize(\"test\")\n",
        "except LookupError:\n",
        "    nltk.download('punkt_tab')\n",
        "\n",
        "\n",
        "# 2️⃣ Cleaned text theke stopwords remove kora\n",
        "df[\"Clean_Review\"] = df[\"Clean_Review\"].apply(\n",
        "    lambda x: ' '.join([w for w in word_tokenize(str(x)) if str(x).strip() and w.lower() not in stop_words])\n",
        ")\n",
        "\n",
        "# 🔹 Explanation:\n",
        "# - str(x): jodi kono value NaN hoy, seta keo string e convert kore\n",
        "# - str(x).strip(): check if string is not empty or whitespace\n",
        "# - word_tokenize(): text ke word e vag kore\n",
        "# - w.lower(): lowercase kore compare kore stopwords er shathe\n",
        "# - if w.lower() not in stop_words: stopword gulo remove\n",
        "# - ' '.join(...): cleaned words gulo abar sentence e convert kora"
      ],
      "metadata": {
        "id": "j7yKIRMYGPJ1"
      },
      "execution_count": 27,
      "outputs": []
    },
    {
      "cell_type": "code",
      "source": [
        "# ⚡ Faster model than bart-large-cnn (no GPU needed)\n",
        "summarizer = pipeline(\"summarization\", model=\"sshleifer/distilbart-cnn-12-6\")\n"
      ],
      "metadata": {
        "colab": {
          "base_uri": "https://localhost:8080/"
        },
        "id": "0b-oQ5ATHPz3",
        "outputId": "4d118ceb-40af-4fe1-ea71-a7dec5fd40e4"
      },
      "execution_count": 28,
      "outputs": [
        {
          "output_type": "stream",
          "name": "stderr",
          "text": [
            "Device set to use cpu\n"
          ]
        }
      ]
    },
    {
      "cell_type": "code",
      "source": [
        "def get_summary_for_position(position, max_reviews=15):\n",
        "    reviews = df[df[\"Position\"] == position][\"Company Overview\"].dropna().tolist()[:max_reviews]\n",
        "    skills = df[df[\"Position\"] == position][\"Skills Required\"].dropna().unique().tolist()\n",
        "\n",
        "    if not reviews:\n",
        "        return \"No reviews found for this position.\", []\n",
        "\n",
        "    combined_text = \" \".join(reviews)\n",
        "\n",
        "    # Check if combined_text is too short for summarization\n",
        "    # A threshold of 50 characters is used as an example\n",
        "    if len(combined_text) < 50:\n",
        "         return \"Not enough review text to generate a summary.\", skills[:5]\n",
        "\n",
        "\n",
        "    # Limit to 1024 tokens for BART, ensuring we don't cut off mid-word if possible\n",
        "    # This approximation might still cut words, but it's a simple way to handle length\n",
        "    combined_text = combined_text[:1024]\n",
        "\n",
        "\n",
        "    summary = summarizer(combined_text, max_length=50, min_length=30, do_sample=False)[0]['summary_text']\n",
        "    return summary, skills[:5]"
      ],
      "metadata": {
        "id": "Iv4Px_waH1q9"
      },
      "execution_count": 46,
      "outputs": []
    },
    {
      "cell_type": "code",
      "source": [
        "from google.colab import drive\n",
        "drive.mount('/content/drive')"
      ],
      "metadata": {
        "colab": {
          "base_uri": "https://localhost:8080/"
        },
        "id": "ygGh9zyaPjpP",
        "outputId": "eac19502-830e-498c-ec16-d091bceda787"
      },
      "execution_count": 30,
      "outputs": [
        {
          "output_type": "stream",
          "name": "stdout",
          "text": [
            "Mounted at /content/drive\n"
          ]
        }
      ]
    },
    {
      "cell_type": "code",
      "source": [
        "print(get_summary_for_position(\"QA Engineer\"))\n"
      ],
      "metadata": {
        "colab": {
          "base_uri": "https://localhost:8080/"
        },
        "id": "UtRtLjreH7ne",
        "outputId": "21e8b3e2-4a5c-4545-be28-82dc4d3e32e8"
      },
      "execution_count": 31,
      "outputs": [
        {
          "output_type": "stream",
          "name": "stdout",
          "text": [
            " Management and HR issues, uneven distribution of work . Some people in upper management are making side businesses by exploiting company's reputation . The team is not eager to develop mid-level projects; they only look for the high ones .\n"
          ]
        }
      ]
    },
    {
      "cell_type": "code",
      "source": [
        "summarizer = pipeline(\"summarization\", model=\"facebook/bart-large-cnn\")\n",
        "# If slow, you can use this instead:\n",
        "# summarizer = pipeline(\"summarization\", model=\"sshleifer/distilbart-cnn-12-6\")\n"
      ],
      "metadata": {
        "id": "9SkXgq9ZNdgh",
        "colab": {
          "base_uri": "https://localhost:8080/"
        },
        "outputId": "f2801e6b-e3a6-488f-f671-9a7871277841"
      },
      "execution_count": 32,
      "outputs": [
        {
          "output_type": "stream",
          "name": "stderr",
          "text": [
            "Device set to use cpu\n"
          ]
        }
      ]
    },
    {
      "cell_type": "code",
      "source": [
        "def get_summary_for_position(position, max_reviews=15):\n",
        "    reviews = df[df[\"Position\"] == position][\"Company Overview\"].dropna().tolist()[:max_reviews]\n",
        "\n",
        "    if not reviews:\n",
        "        return \"No reviews found for this position.\"\n",
        "\n",
        "    combined_text = \" \".join(reviews)[:1024]  # Limit to 1024 tokens for BART\n",
        "    summary = summarizer(combined_text, max_length=50, min_length=30, do_sample=False)[0]['summary_text']\n",
        "    return summary\n"
      ],
      "metadata": {
        "id": "Ce19-59JNvAw"
      },
      "execution_count": 33,
      "outputs": []
    },
    {
      "cell_type": "code",
      "source": [
        "from collections import Counter\n",
        "\n",
        "def get_skills_summary(position):\n",
        "    skill_texts = df[df[\"Position\"] == position][\"Skills Required\"].dropna().tolist()\n",
        "\n",
        "    # Split skills and flatten\n",
        "    skills = [skill.strip() for text in skill_texts for skill in text.split(',') if skill.strip()]\n",
        "\n",
        "    if not skills:\n",
        "        return \"No skills data available for this position.\"\n",
        "\n",
        "    # Count and select top 5\n",
        "    skill_counts = Counter(skills)\n",
        "    top_skills = [skill for skill, _ in skill_counts.most_common(5)]\n",
        "\n",
        "    return \"Most common required skills: \" + \", \".join(top_skills)"
      ],
      "metadata": {
        "id": "-ggWOhSvNy-I"
      },
      "execution_count": 41,
      "outputs": []
    },
    {
      "cell_type": "code",
      "metadata": {
        "colab": {
          "base_uri": "https://localhost:8080/"
        },
        "id": "a74c9c40",
        "outputId": "846f5588-e591-4a8d-ec1a-d08c92deb8e4"
      },
      "source": [
        "position = input(\"Please enter the position you want to analyze: \")\n",
        "\n",
        "# Get the company name for the position (assuming one company per position in this context)\n",
        "# Add error handling in case the position is not found\n",
        "if position not in df[\"Position\"].unique():\n",
        "    print(f\"Position '{position}' not found in the dataset. Please enter a valid position.\")\n",
        "else:\n",
        "    company_name = df[df[\"Position\"] == position][\"Company Name\"].iloc[0]\n",
        "\n",
        "    print(f\"\\n🏢 Company: {company_name}\")\n",
        "    print(f\"🧑‍💻 Position: {position}\")\n",
        "\n",
        "    # Get and print the review summary\n",
        "    print(\"\\n💬 Review Summary:\")\n",
        "    review_summary = get_summary_for_position(position)\n",
        "    print(review_summary)\n",
        "\n",
        "    # Get and print the skill summary\n",
        "    print(\"\\n🛠️ Skill Summary:\")\n",
        "    skill_summary_text = get_skills_summary(position)\n",
        "    print(skill_summary_text)"
      ],
      "execution_count": 45,
      "outputs": [
        {
          "name": "stdout",
          "output_type": "stream",
          "text": [
            "Please enter the position you want to analyze: Analyst programmer\n"
          ]
        },
        {
          "output_type": "stream",
          "name": "stderr",
          "text": [
            "Your max_length is set to 50, but your input_length is only 9. Since this is a summarization task, where outputs shorter than the input are typically wanted, you might consider decreasing max_length manually, e.g. summarizer('...', max_length=4)\n"
          ]
        },
        {
          "output_type": "stream",
          "name": "stdout",
          "text": [
            "\n",
            "🏢 Company: Southtech Group\n",
            "🧑‍💻 Position: Analyst programmer\n",
            "\n",
            "💬 Review Summary:\n",
            "CNN.com will feature iReporter photos in a weekly Travel Snapshots gallery. Visit CNN.com/Travel each week for a new gallery of snapshots.\n",
            "\n",
            "🛠️ Skill Summary:\n",
            "Most common required skills: Java, SQL, Data Modeling, REST APIs, Problem-Solving\n"
          ]
        }
      ]
    },
    {
      "cell_type": "code",
      "metadata": {
        "colab": {
          "base_uri": "https://localhost:8080/"
        },
        "id": "3cae64c3",
        "outputId": "41688747-35b1-441f-c11a-b496144fdbea"
      },
      "source": [
        "position = input(\"Please enter the position you want to analyze: \")\n",
        "\n",
        "# Add error handling in case the position is not found\n",
        "if position not in df[\"Position\"].unique():\n",
        "    print(f\"Position '{position}' not found in the dataset. Please enter a valid position.\")\n",
        "else:\n",
        "    # Get the company name for the position (assuming one company per position in this context)\n",
        "    company_name = df[df[\"Position\"] == position][\"Company Name\"].iloc[0]\n",
        "\n",
        "    print(f\"\\n🏢 Company: {company_name}\")\n",
        "    print(f\"🧑‍💻 Position: {position}\")\n",
        "\n",
        "    # Get and print the review summary and skills\n",
        "    print(\"\\n💬 Review Summary:\")\n",
        "    review_summary, skills = get_summary_for_position(position)\n",
        "    print(review_summary)\n",
        "\n",
        "    # Print the skill summary\n",
        "    print(\"\\n🛠️ Skill Summary:\")\n",
        "    if skills:\n",
        "        print(\"Most common required skills: \" + \", \".join(skills))\n",
        "    else:\n",
        "        # If get_summary_for_position returned an empty skill list\n",
        "        print(\"No skills data available for this position.\")"
      ],
      "execution_count": 51,
      "outputs": [
        {
          "output_type": "stream",
          "name": "stdout",
          "text": [
            "Please enter the position you want to analyze: Full stack java developer\n",
            "\n",
            "🏢 Company: Southtech Group\n",
            "🧑‍💻 Position: Full stack java developer\n",
            "\n",
            "💬 Review Summary:\n",
            "Not enough review text to generate a summary.\n",
            "\n",
            "🛠️ Skill Summary:\n",
            "Most common required skills: Java, Spring Boot, React, MySQL, JavaScript, CI/CD\n"
          ]
        }
      ]
    },
    {
      "cell_type": "markdown",
      "metadata": {
        "id": "7eb0e8aa"
      },
      "source": [
        "# Task\n",
        "Modify the code to take user input for the company name, filter the data by the company name, and if reviews are found, summarize them and suggest up to 5 skills. If no reviews are found for the company, display the information from the corresponding row(s) in the dataframe."
      ]
    },
    {
      "cell_type": "markdown",
      "metadata": {
        "id": "4698db35"
      },
      "source": [
        "## Modify input\n",
        "\n",
        "### Subtask:\n",
        "Change the input prompt to ask for the Company Name instead of the Position.\n"
      ]
    },
    {
      "cell_type": "markdown",
      "metadata": {
        "id": "2d5fa930"
      },
      "source": [
        "**Reasoning**:\n",
        "Modify the input prompt to ask for the company name as requested by the subtask.\n",
        "\n"
      ]
    },
    {
      "cell_type": "code",
      "metadata": {
        "colab": {
          "base_uri": "https://localhost:8080/"
        },
        "id": "826acd6a",
        "outputId": "f544e568-2301-4acd-a5db-759c3b1ba100"
      },
      "source": [
        "company_name_input = input(\"Please enter the company name you want to analyze: \")"
      ],
      "execution_count": 53,
      "outputs": [
        {
          "name": "stdout",
          "output_type": "stream",
          "text": [
            "Please enter the company name you want to analyze: Bdtask\n"
          ]
        }
      ]
    },
    {
      "cell_type": "markdown",
      "metadata": {
        "id": "48cd7452"
      },
      "source": [
        "## Filter by company name\n",
        "\n",
        "### Subtask:\n",
        "Filter the DataFrame to select rows corresponding to the entered Company Name.\n"
      ]
    },
    {
      "cell_type": "markdown",
      "metadata": {
        "id": "33779dd6"
      },
      "source": [
        "**Reasoning**:\n",
        "Filter the DataFrame based on the user-provided company name.\n",
        "\n"
      ]
    },
    {
      "cell_type": "code",
      "metadata": {
        "id": "3d11e43c"
      },
      "source": [
        "df_company = df[df[\"Company Name\"] == company_name_input]"
      ],
      "execution_count": 54,
      "outputs": []
    },
    {
      "cell_type": "markdown",
      "metadata": {
        "id": "5c92686a"
      },
      "source": [
        "## Check for reviews\n",
        "\n",
        "### Subtask:\n",
        "Check if the filtered rows contain any non-missing entries in the \"Company Overview\" column.\n"
      ]
    },
    {
      "cell_type": "markdown",
      "metadata": {
        "id": "9edd1353"
      },
      "source": [
        "**Reasoning**:\n",
        "Check if the filtered dataframe is empty and if there are non-missing values in the \"Company Overview\" column.\n",
        "\n"
      ]
    },
    {
      "cell_type": "code",
      "metadata": {
        "colab": {
          "base_uri": "https://localhost:8080/"
        },
        "id": "8837b05c",
        "outputId": "9314e4b6-61d4-4734-c815-3669fb73c09d"
      },
      "source": [
        "if df_company.empty:\n",
        "    print(f\"Company '{company_name_input}' not found in the dataset. Please enter a valid company name.\")\n",
        "else:\n",
        "    if df_company[\"Company Overview\"].dropna().empty:\n",
        "        print(f\"No reviews found for '{company_name_input}'. Displaying available information.\")\n",
        "        # This is where you would add the logic to display the row information\n",
        "        display(df_company)\n",
        "    else:\n",
        "        print(f\"Reviews found for '{company_name_input}'. Proceeding with summarization.\")\n",
        "        # This is where you would add the logic for summarization and skill suggestion"
      ],
      "execution_count": 55,
      "outputs": [
        {
          "output_type": "stream",
          "name": "stdout",
          "text": [
            "Reviews found for 'Bdtask'. Proceeding with summarization.\n"
          ]
        }
      ]
    },
    {
      "cell_type": "markdown",
      "metadata": {
        "id": "be03b0f3"
      },
      "source": [
        "## Summarize or display row info\n",
        "\n",
        "### Subtask:\n",
        "If reviews are found, combine them and generate a summary using the existing summarization function and determine the most common skills associated with this company. If no reviews are found, select the relevant row(s) for the company and display key information from that row(s).\n"
      ]
    },
    {
      "cell_type": "markdown",
      "metadata": {
        "id": "d877b27b"
      },
      "source": [
        "**Reasoning**:\n",
        "Implement the logic to summarize reviews and find top skills if reviews are found, or display relevant information if no reviews are found, based on the previous check.\n",
        "\n"
      ]
    },
    {
      "cell_type": "code",
      "metadata": {
        "colab": {
          "base_uri": "https://localhost:8080/"
        },
        "id": "8e3d1aa6",
        "outputId": "0d172ab4-eec5-4dd0-a86e-2d3bca9abd4d"
      },
      "source": [
        "if df_company.empty:\n",
        "    print(f\"Company '{company_name_input}' not found in the dataset. Please enter a valid company name.\")\n",
        "else:\n",
        "    if df_company[\"Company Overview\"].dropna().empty:\n",
        "        print(f\"No reviews found for '{company_name_input}'. Displaying available information.\")\n",
        "        # Display relevant columns if no reviews found\n",
        "        display(df_company[[\"Position\", \"Skills Required\", \"Work Type\"]])\n",
        "    else:\n",
        "        print(f\"Reviews found for '{company_name_input}'. Proceeding with summarization and skill analysis.\")\n",
        "        # Combine reviews\n",
        "        combined_text = \" \".join(df_company[\"Company Overview\"].dropna().tolist())\n",
        "\n",
        "        # Generate summary (limit to 1024 tokens for BART)\n",
        "        # Check if combined_text is too short for summarization\n",
        "        # A threshold of 50 characters is used as an example\n",
        "        if len(combined_text) < 50:\n",
        "             review_summary = \"Not enough review text to generate a summary.\"\n",
        "        else:\n",
        "            combined_text = combined_text[:1024]\n",
        "            review_summary = summarizer(combined_text, max_length=50, min_length=30, do_sample=False)[0]['summary_text']\n",
        "\n",
        "        # Extract and process skills\n",
        "        skill_texts = df_company[\"Skills Required\"].dropna().tolist()\n",
        "        skills = [skill.strip() for text in skill_texts for skill in text.split(',') if skill.strip()]\n",
        "\n",
        "        if not skills:\n",
        "            skill_summary_text = \"No skills data available for this company.\"\n",
        "        else:\n",
        "            skill_counts = Counter(skills)\n",
        "            top_skills = [skill for skill, _ in skill_counts.most_common(5)]\n",
        "            skill_summary_text = \"Most common required skills: \" + \", \".join(top_skills)\n",
        "\n",
        "        # Print the results\n",
        "        print(f\"\\n🏢 Company: {company_name_input}\")\n",
        "        # Note: If a company has multiple positions, this will only show the position from the first row.\n",
        "        # A more comprehensive approach might iterate through unique positions or list them all.\n",
        "        if not df_company[\"Position\"].empty:\n",
        "             print(f\"🧑‍💻 Position(s): {', '.join(df_company['Position'].unique().tolist())}\")\n",
        "\n",
        "\n",
        "        print(\"\\n💬 Review Summary:\")\n",
        "        print(review_summary)\n",
        "\n",
        "        print(\"\\n🛠️ Skill Summary:\")\n",
        "        print(skill_summary_text)"
      ],
      "execution_count": 56,
      "outputs": [
        {
          "output_type": "stream",
          "name": "stdout",
          "text": [
            "Reviews found for 'Bdtask'. Proceeding with summarization and skill analysis.\n",
            "\n",
            "🏢 Company: Bdtask\n",
            "🧑‍💻 Position(s): Sales asistant, Reactjs developer, Software engineer, .net developer, Sales associate, Laravel developer, Blockchain developer, Customer support engineer, Seo executive, Python developer, IT Engineer, Project manager, software engineer, Mobile applications developer, Php developer, Techical support engineer, Software developer, Junior sqa engineer, Software support engineer, SQA Engineer, Digital marketing specialist, Junior software developer, Seo specialist, Android developer, Software engineer(internship), Jr programmer\n",
            "\n",
            "💬 Review Summary:\n",
            "The work environment is extremely toxic and demotivating. The projects I’ve worked on are both challenging and rewarding, providing real-world experience that has significantly enhanced my skill set. The work culture is po\n",
            "\n",
            "🛠️ Skill Summary:\n",
            "Most common required skills: REST APIs, Git, JavaScript, JIRA, Python\n"
          ]
        }
      ]
    },
    {
      "cell_type": "markdown",
      "metadata": {
        "id": "e1d65863"
      },
      "source": [
        "## Present output\n",
        "\n",
        "### Subtask:\n",
        "Display the Company Name, and either the review summary and skills (if reviews exist) or the row information (if no reviews exist).\n"
      ]
    },
    {
      "cell_type": "markdown",
      "metadata": {
        "id": "17493154"
      },
      "source": [
        "## Refine skills for company\n",
        "\n",
        "### Subtask:\n",
        "Address how to handle skills when filtering by company name (e.g., list top skills across all positions in the company, or ask the user to also specify a position).\n"
      ]
    },
    {
      "cell_type": "markdown",
      "metadata": {
        "id": "707e0a36"
      },
      "source": [
        "**Reasoning**:\n",
        "The current code extracts and counts skills for the entire company. For a more focused analysis, it makes more sense to ask the user to specify a position after the company name is entered and then provide skills relevant to that position. This aligns with the original request's structure of analyzing specific positions. I will modify the code to first ask for the company name, then if the company is found, list the unique positions within that company, and finally ask the user to select one of those positions for further analysis.\n",
        "\n"
      ]
    },
    {
      "cell_type": "code",
      "metadata": {
        "colab": {
          "base_uri": "https://localhost:8080/"
        },
        "id": "cc01da26",
        "outputId": "29c8ce78-da46-4d48-8cea-a5654e3215d8"
      },
      "source": [
        "company_name_input = input(\"Please enter the company name you want to analyze: \")\n",
        "\n",
        "# Add error handling in case the company is not found\n",
        "if company_name_input not in df[\"Company Name\"].unique():\n",
        "    print(f\"Company '{company_name_input}' not found in the dataset. Please enter a valid company name.\")\n",
        "else:\n",
        "    df_company = df[df[\"Company Name\"] == company_name_input]\n",
        "\n",
        "    # Get the unique positions for the selected company\n",
        "    unique_positions = df_company[\"Position\"].dropna().unique().tolist()\n",
        "\n",
        "    if not unique_positions:\n",
        "        print(f\"No position data found for '{company_name_input}'. Displaying available information.\")\n",
        "        # Display relevant columns if no position data found\n",
        "        display(df_company[[\"Company Overview\", \"Skills Required\", \"Work Type\"]])\n",
        "    else:\n",
        "        print(f\"\\nPositions available for '{company_name_input}':\")\n",
        "        for i, position in enumerate(unique_positions):\n",
        "            print(f\"{i + 1}. {position}\")\n",
        "\n",
        "        # Ask the user to select a position\n",
        "        while True:\n",
        "            try:\n",
        "                position_index = int(input(f\"Please enter the number corresponding to the position you want to analyze (1-{len(unique_positions)}): \")) - 1\n",
        "                if 0 <= position_index < len(unique_positions):\n",
        "                    position = unique_positions[position_index]\n",
        "                    break\n",
        "                else:\n",
        "                    print(\"Invalid number. Please try again.\")\n",
        "            except ValueError:\n",
        "                print(\"Invalid input. Please enter a number.\")\n",
        "\n",
        "        df_position = df_company[df_company[\"Position\"] == position]\n",
        "\n",
        "        print(f\"\\n🏢 Company: {company_name_input}\")\n",
        "        print(f\"🧑‍💻 Position: {position}\")\n",
        "\n",
        "        # Get and print the review summary for the selected position\n",
        "        print(\"\\n💬 Review Summary:\")\n",
        "        # Filter out None values before joining\n",
        "        reviews = df_position[\"Company Overview\"].dropna().tolist()\n",
        "\n",
        "        if not reviews:\n",
        "            print(\"No reviews found for this position.\")\n",
        "        else:\n",
        "            combined_text = \" \".join(reviews)\n",
        "\n",
        "            # Check if combined_text is too short for summarization\n",
        "            if len(combined_text) < 50:\n",
        "                 review_summary = \"Not enough review text to generate a summary.\"\n",
        "            else:\n",
        "                combined_text = combined_text[:1024] # Limit for BART\n",
        "                try:\n",
        "                    review_summary = summarizer(combined_text, max_length=50, min_length=30, do_sample=False)[0]['summary_text']\n",
        "                except Exception as e:\n",
        "                    print(f\"Error during summarization: {e}\")\n",
        "                    review_summary = \"Could not generate summary.\"\n",
        "\n",
        "            print(review_summary)\n",
        "\n",
        "        # Get and print the skill summary for the selected position\n",
        "        print(\"\\n🛠️ Skill Summary:\")\n",
        "        skill_texts = df_position[\"Skills Required\"].dropna().tolist()\n",
        "        skills = [skill.strip() for text in skill_texts for skill in text.split(',') if skill.strip()]\n",
        "\n",
        "        if not skills:\n",
        "            skill_summary_text = \"No skills data available for this position.\"\n",
        "        else:\n",
        "            skill_counts = Counter(skills)\n",
        "            top_skills = [skill for skill, _ in skill_counts.most_common(5)]\n",
        "            skill_summary_text = \"Most common required skills: \" + \", \".join(top_skills)\n",
        "\n",
        "        print(skill_summary_text)"
      ],
      "execution_count": 59,
      "outputs": [
        {
          "output_type": "stream",
          "name": "stdout",
          "text": [
            "Please enter the company name you want to analyze: Flyte Solutions\n",
            "\n",
            "Positions available for 'Flyte Solutions':\n",
            "1. Data analyst\n",
            "2. Software architect\n",
            "3. QA engineer\n",
            "4. React developer\n",
            "5. Junior web developer\n",
            "6. Full stack web developer\n",
            "7. Software engineer\n",
            "Please enter the number corresponding to the position you want to analyze (1-7): 2\n",
            "\n",
            "🏢 Company: Flyte Solutions\n",
            "🧑‍💻 Position: Software architect\n",
            "\n",
            "💬 Review Summary:\n",
            "The team is collaborative and open to Sharing knowledge, which supports continues learning. Management consistently provides guidance and support, creating a positive work environment. Opportunities for skill growth and project involvement are encouraging.\n",
            "\n",
            "🛠️ Skill Summary:\n",
            "Most common required skills: Technology stack selection, Framework evaluation, Tool and platform recommendation, Cloud architecture, System architecture design\n"
          ]
        }
      ]
    },
    {
      "cell_type": "markdown",
      "metadata": {
        "id": "36dd8a5c"
      },
      "source": [
        "## Summary:\n",
        "\n",
        "### Data Analysis Key Findings\n",
        "\n",
        "*   The code was successfully modified to accept user input for the company name and filter the dataset accordingly.\n",
        "*   The process includes a check to see if reviews (\"Company Overview\") are available for the selected company.\n",
        "*   If reviews are found, they are combined, summarized using a text summarization model (BART), and the top 5 most frequently listed skills for that company are identified and presented.\n",
        "*   If no reviews are found, key information from the corresponding row(s) for the company (Position, Skills Required, Work Type) is displayed.\n",
        "*   The approach for handling skills was refined to be position-specific, prompting the user to select a position within the company to get relevant review summaries and skill suggestions for that particular role.\n",
        "\n",
        "### Insights or Next Steps\n",
        "\n",
        "*   Implementing the position-specific analysis provides more targeted and useful insights to the user compared to a company-wide aggregation of skills.\n",
        "*   Consider adding error handling or suggestions if the user-inputted company name is not found in the dataset.\n"
      ]
    }
  ]
}